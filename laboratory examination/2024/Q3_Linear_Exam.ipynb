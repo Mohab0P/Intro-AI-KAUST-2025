{
  "cells": [
    {
      "cell_type": "markdown",
      "metadata": {
        "id": "clFzUDjSKf7e"
      },
      "source": [
        "## Task: Predict Carbon Emissions Based on Satellite Observations\n",
        "\n",
        "* You are provided with a time series satellite observations dataset extracted from Sentinel-5P satelite from 2019 to 2021.\n",
        "\n",
        "* Your objective is to build a regression model that accurately predicts the amount of carbon emissions in the next years.\n",
        "\n",
        "* Your target is the column: \"emission\".\n",
        "\n",
        "* You are provided with the code to download and load the csv file.\n",
        "\n",
        "* Your work will be evaluated based on the completion of the given tasks below.\n",
        "\n",
        "* You are allowed to use any models or libraries you want.\n",
        "    \n",
        "---\n"
      ]
    },
    {
      "cell_type": "markdown",
      "metadata": {},
      "source": []
    },
    {
      "cell_type": "code",
      "execution_count": 13,
      "metadata": {
        "id": "52eNhdbzKhRT"
      },
      "outputs": [],
      "source": [
        "import pandas as pd\n",
        "import gdown\n",
        "import kagglehub\n",
        "import os\n",
        "import math\n",
        "# This line imports the math module, which provides mathematical functions.\n",
        "\n",
        "import numpy as np\n",
        "# This line imports the numpy library, which is used for numerical operations,\n",
        "# and gives it the alias 'np' for convenience.\n",
        "\n",
        "import matplotlib.pyplot as plt\n",
        "# This line imports the matplotlib.pyplot module, used for plotting, and gives\n",
        "# it the alias 'plt'.\n",
        "\n",
        "# Sklearn has implementations of multiple types of models. We'll be using LinearRegression API in it\n",
        "# For documentation on LinearRegression, visit here: https://scikit-learn.org/stable/modules/generated/sklearn.linear_model.LinearRegression.html\n",
        "from sklearn.linear_model import LinearRegression\n",
        "# This line imports the LinearRegression class from the sklearn.linear_model\n",
        "# module, which is used to perform linear regression.\n",
        "# Link to documentation provided for further reference"
      ]
    },
    {
      "cell_type": "code",
      "execution_count": 5,
      "metadata": {
        "colab": {
          "base_uri": "https://localhost:8080/"
        },
        "id": "ObIiNW9ia2SO",
        "outputId": "2bd59f20-8678-4d80-d901-7928ae90817c"
      },
      "outputs": [
        {
          "name": "stdout",
          "output_type": "stream",
          "text": [
            "Downloading from https://www.kaggle.com/api/v1/datasets/download/mohammad2012191/q3-data?dataset_version_number=1...\n"
          ]
        },
        {
          "name": "stderr",
          "output_type": "stream",
          "text": [
            "100%|██████████| 37.6M/37.6M [00:00<00:00, 192MB/s]"
          ]
        },
        {
          "name": "stdout",
          "output_type": "stream",
          "text": [
            "Extracting files...\n"
          ]
        },
        {
          "name": "stderr",
          "output_type": "stream",
          "text": [
            "\n"
          ]
        },
        {
          "name": "stdout",
          "output_type": "stream",
          "text": [
            "Path to dataset files: /root/.cache/kagglehub/datasets/mohammad2012191/q3-data/versions/1\n"
          ]
        }
      ],
      "source": [
        "path = kagglehub.dataset_download(\"mohammad2012191/q3-data\")\n",
        "\n",
        "print(\"Path to dataset files:\", path)"
      ]
    },
    {
      "cell_type": "code",
      "execution_count": 6,
      "metadata": {
        "colab": {
          "base_uri": "https://localhost:8080/",
          "height": 255
        },
        "id": "1Hctz82jwvwr",
        "outputId": "bddaa449-a803-40d0-875f-4bb5f5cc3821"
      },
      "outputs": [
        {
          "data": {
            "application/vnd.google.colaboratory.intrinsic+json": {
              "type": "dataframe",
              "variable_name": "data"
            },
            "text/html": [
              "\n",
              "  <div id=\"df-2d0ad93b-b5d9-4c6d-ad53-07f41c2d45ef\" class=\"colab-df-container\">\n",
              "    <div>\n",
              "<style scoped>\n",
              "    .dataframe tbody tr th:only-of-type {\n",
              "        vertical-align: middle;\n",
              "    }\n",
              "\n",
              "    .dataframe tbody tr th {\n",
              "        vertical-align: top;\n",
              "    }\n",
              "\n",
              "    .dataframe thead th {\n",
              "        text-align: right;\n",
              "    }\n",
              "</style>\n",
              "<table border=\"1\" class=\"dataframe\">\n",
              "  <thead>\n",
              "    <tr style=\"text-align: right;\">\n",
              "      <th></th>\n",
              "      <th>ID_LAT_LON_YEAR_WEEK</th>\n",
              "      <th>latitude</th>\n",
              "      <th>longitude</th>\n",
              "      <th>year</th>\n",
              "      <th>week_no</th>\n",
              "      <th>SulphurDioxide_SO2_column_number_density</th>\n",
              "      <th>SulphurDioxide_SO2_column_number_density_amf</th>\n",
              "      <th>SulphurDioxide_SO2_slant_column_number_density</th>\n",
              "      <th>SulphurDioxide_cloud_fraction</th>\n",
              "      <th>SulphurDioxide_sensor_azimuth_angle</th>\n",
              "      <th>...</th>\n",
              "      <th>Cloud_cloud_top_height</th>\n",
              "      <th>Cloud_cloud_base_pressure</th>\n",
              "      <th>Cloud_cloud_base_height</th>\n",
              "      <th>Cloud_cloud_optical_depth</th>\n",
              "      <th>Cloud_surface_albedo</th>\n",
              "      <th>Cloud_sensor_azimuth_angle</th>\n",
              "      <th>Cloud_sensor_zenith_angle</th>\n",
              "      <th>Cloud_solar_azimuth_angle</th>\n",
              "      <th>Cloud_solar_zenith_angle</th>\n",
              "      <th>emission</th>\n",
              "    </tr>\n",
              "  </thead>\n",
              "  <tbody>\n",
              "    <tr>\n",
              "      <th>0</th>\n",
              "      <td>ID_-0.510_29.290_2019_00</td>\n",
              "      <td>-0.51</td>\n",
              "      <td>29.29</td>\n",
              "      <td>2019</td>\n",
              "      <td>0</td>\n",
              "      <td>-0.000108</td>\n",
              "      <td>0.603019</td>\n",
              "      <td>-0.000065</td>\n",
              "      <td>0.255668</td>\n",
              "      <td>-98.593887</td>\n",
              "      <td>...</td>\n",
              "      <td>3664.436218</td>\n",
              "      <td>61085.809570</td>\n",
              "      <td>2615.120483</td>\n",
              "      <td>15.568533</td>\n",
              "      <td>0.272292</td>\n",
              "      <td>-12.628986</td>\n",
              "      <td>35.632416</td>\n",
              "      <td>-138.786423</td>\n",
              "      <td>30.752140</td>\n",
              "      <td>3.750994</td>\n",
              "    </tr>\n",
              "    <tr>\n",
              "      <th>1</th>\n",
              "      <td>ID_-0.510_29.290_2019_01</td>\n",
              "      <td>-0.51</td>\n",
              "      <td>29.29</td>\n",
              "      <td>2019</td>\n",
              "      <td>1</td>\n",
              "      <td>0.000021</td>\n",
              "      <td>0.728214</td>\n",
              "      <td>0.000014</td>\n",
              "      <td>0.130988</td>\n",
              "      <td>16.592861</td>\n",
              "      <td>...</td>\n",
              "      <td>3651.190311</td>\n",
              "      <td>66969.478735</td>\n",
              "      <td>3174.572424</td>\n",
              "      <td>8.690601</td>\n",
              "      <td>0.256830</td>\n",
              "      <td>30.359375</td>\n",
              "      <td>39.557633</td>\n",
              "      <td>-145.183930</td>\n",
              "      <td>27.251779</td>\n",
              "      <td>4.025176</td>\n",
              "    </tr>\n",
              "    <tr>\n",
              "      <th>2</th>\n",
              "      <td>ID_-0.510_29.290_2019_02</td>\n",
              "      <td>-0.51</td>\n",
              "      <td>29.29</td>\n",
              "      <td>2019</td>\n",
              "      <td>2</td>\n",
              "      <td>0.000514</td>\n",
              "      <td>0.748199</td>\n",
              "      <td>0.000385</td>\n",
              "      <td>0.110018</td>\n",
              "      <td>72.795837</td>\n",
              "      <td>...</td>\n",
              "      <td>4216.986492</td>\n",
              "      <td>60068.894448</td>\n",
              "      <td>3516.282669</td>\n",
              "      <td>21.103410</td>\n",
              "      <td>0.251101</td>\n",
              "      <td>15.377883</td>\n",
              "      <td>30.401823</td>\n",
              "      <td>-142.519545</td>\n",
              "      <td>26.193296</td>\n",
              "      <td>4.231381</td>\n",
              "    </tr>\n",
              "    <tr>\n",
              "      <th>3</th>\n",
              "      <td>ID_-0.510_29.290_2019_03</td>\n",
              "      <td>-0.51</td>\n",
              "      <td>29.29</td>\n",
              "      <td>2019</td>\n",
              "      <td>3</td>\n",
              "      <td>NaN</td>\n",
              "      <td>NaN</td>\n",
              "      <td>NaN</td>\n",
              "      <td>NaN</td>\n",
              "      <td>NaN</td>\n",
              "      <td>...</td>\n",
              "      <td>5228.507736</td>\n",
              "      <td>51064.547339</td>\n",
              "      <td>4180.973322</td>\n",
              "      <td>15.386899</td>\n",
              "      <td>0.262043</td>\n",
              "      <td>-11.293399</td>\n",
              "      <td>24.380357</td>\n",
              "      <td>-132.665828</td>\n",
              "      <td>28.829155</td>\n",
              "      <td>4.305286</td>\n",
              "    </tr>\n",
              "    <tr>\n",
              "      <th>4</th>\n",
              "      <td>ID_-0.510_29.290_2019_04</td>\n",
              "      <td>-0.51</td>\n",
              "      <td>29.29</td>\n",
              "      <td>2019</td>\n",
              "      <td>4</td>\n",
              "      <td>-0.000079</td>\n",
              "      <td>0.676296</td>\n",
              "      <td>-0.000048</td>\n",
              "      <td>0.121164</td>\n",
              "      <td>4.121269</td>\n",
              "      <td>...</td>\n",
              "      <td>3980.598120</td>\n",
              "      <td>63751.125781</td>\n",
              "      <td>3355.710107</td>\n",
              "      <td>8.114694</td>\n",
              "      <td>0.235847</td>\n",
              "      <td>38.532263</td>\n",
              "      <td>37.392979</td>\n",
              "      <td>-141.509805</td>\n",
              "      <td>22.204612</td>\n",
              "      <td>4.347317</td>\n",
              "    </tr>\n",
              "  </tbody>\n",
              "</table>\n",
              "<p>5 rows × 76 columns</p>\n",
              "</div>\n",
              "    <div class=\"colab-df-buttons\">\n",
              "\n",
              "  <div class=\"colab-df-container\">\n",
              "    <button class=\"colab-df-convert\" onclick=\"convertToInteractive('df-2d0ad93b-b5d9-4c6d-ad53-07f41c2d45ef')\"\n",
              "            title=\"Convert this dataframe to an interactive table.\"\n",
              "            style=\"display:none;\">\n",
              "\n",
              "  <svg xmlns=\"http://www.w3.org/2000/svg\" height=\"24px\" viewBox=\"0 -960 960 960\">\n",
              "    <path d=\"M120-120v-720h720v720H120Zm60-500h600v-160H180v160Zm220 220h160v-160H400v160Zm0 220h160v-160H400v160ZM180-400h160v-160H180v160Zm440 0h160v-160H620v160ZM180-180h160v-160H180v160Zm440 0h160v-160H620v160Z\"/>\n",
              "  </svg>\n",
              "    </button>\n",
              "\n",
              "  <style>\n",
              "    .colab-df-container {\n",
              "      display:flex;\n",
              "      gap: 12px;\n",
              "    }\n",
              "\n",
              "    .colab-df-convert {\n",
              "      background-color: #E8F0FE;\n",
              "      border: none;\n",
              "      border-radius: 50%;\n",
              "      cursor: pointer;\n",
              "      display: none;\n",
              "      fill: #1967D2;\n",
              "      height: 32px;\n",
              "      padding: 0 0 0 0;\n",
              "      width: 32px;\n",
              "    }\n",
              "\n",
              "    .colab-df-convert:hover {\n",
              "      background-color: #E2EBFA;\n",
              "      box-shadow: 0px 1px 2px rgba(60, 64, 67, 0.3), 0px 1px 3px 1px rgba(60, 64, 67, 0.15);\n",
              "      fill: #174EA6;\n",
              "    }\n",
              "\n",
              "    .colab-df-buttons div {\n",
              "      margin-bottom: 4px;\n",
              "    }\n",
              "\n",
              "    [theme=dark] .colab-df-convert {\n",
              "      background-color: #3B4455;\n",
              "      fill: #D2E3FC;\n",
              "    }\n",
              "\n",
              "    [theme=dark] .colab-df-convert:hover {\n",
              "      background-color: #434B5C;\n",
              "      box-shadow: 0px 1px 3px 1px rgba(0, 0, 0, 0.15);\n",
              "      filter: drop-shadow(0px 1px 2px rgba(0, 0, 0, 0.3));\n",
              "      fill: #FFFFFF;\n",
              "    }\n",
              "  </style>\n",
              "\n",
              "    <script>\n",
              "      const buttonEl =\n",
              "        document.querySelector('#df-2d0ad93b-b5d9-4c6d-ad53-07f41c2d45ef button.colab-df-convert');\n",
              "      buttonEl.style.display =\n",
              "        google.colab.kernel.accessAllowed ? 'block' : 'none';\n",
              "\n",
              "      async function convertToInteractive(key) {\n",
              "        const element = document.querySelector('#df-2d0ad93b-b5d9-4c6d-ad53-07f41c2d45ef');\n",
              "        const dataTable =\n",
              "          await google.colab.kernel.invokeFunction('convertToInteractive',\n",
              "                                                    [key], {});\n",
              "        if (!dataTable) return;\n",
              "\n",
              "        const docLinkHtml = 'Like what you see? Visit the ' +\n",
              "          '<a target=\"_blank\" href=https://colab.research.google.com/notebooks/data_table.ipynb>data table notebook</a>'\n",
              "          + ' to learn more about interactive tables.';\n",
              "        element.innerHTML = '';\n",
              "        dataTable['output_type'] = 'display_data';\n",
              "        await google.colab.output.renderOutput(dataTable, element);\n",
              "        const docLink = document.createElement('div');\n",
              "        docLink.innerHTML = docLinkHtml;\n",
              "        element.appendChild(docLink);\n",
              "      }\n",
              "    </script>\n",
              "  </div>\n",
              "\n",
              "\n",
              "<div id=\"df-eb6d5adb-6321-4883-8fd1-764d3f098f57\">\n",
              "  <button class=\"colab-df-quickchart\" onclick=\"quickchart('df-eb6d5adb-6321-4883-8fd1-764d3f098f57')\"\n",
              "            title=\"Suggest charts\"\n",
              "            style=\"display:none;\">\n",
              "\n",
              "<svg xmlns=\"http://www.w3.org/2000/svg\" height=\"24px\"viewBox=\"0 0 24 24\"\n",
              "     width=\"24px\">\n",
              "    <g>\n",
              "        <path d=\"M19 3H5c-1.1 0-2 .9-2 2v14c0 1.1.9 2 2 2h14c1.1 0 2-.9 2-2V5c0-1.1-.9-2-2-2zM9 17H7v-7h2v7zm4 0h-2V7h2v10zm4 0h-2v-4h2v4z\"/>\n",
              "    </g>\n",
              "</svg>\n",
              "  </button>\n",
              "\n",
              "<style>\n",
              "  .colab-df-quickchart {\n",
              "      --bg-color: #E8F0FE;\n",
              "      --fill-color: #1967D2;\n",
              "      --hover-bg-color: #E2EBFA;\n",
              "      --hover-fill-color: #174EA6;\n",
              "      --disabled-fill-color: #AAA;\n",
              "      --disabled-bg-color: #DDD;\n",
              "  }\n",
              "\n",
              "  [theme=dark] .colab-df-quickchart {\n",
              "      --bg-color: #3B4455;\n",
              "      --fill-color: #D2E3FC;\n",
              "      --hover-bg-color: #434B5C;\n",
              "      --hover-fill-color: #FFFFFF;\n",
              "      --disabled-bg-color: #3B4455;\n",
              "      --disabled-fill-color: #666;\n",
              "  }\n",
              "\n",
              "  .colab-df-quickchart {\n",
              "    background-color: var(--bg-color);\n",
              "    border: none;\n",
              "    border-radius: 50%;\n",
              "    cursor: pointer;\n",
              "    display: none;\n",
              "    fill: var(--fill-color);\n",
              "    height: 32px;\n",
              "    padding: 0;\n",
              "    width: 32px;\n",
              "  }\n",
              "\n",
              "  .colab-df-quickchart:hover {\n",
              "    background-color: var(--hover-bg-color);\n",
              "    box-shadow: 0 1px 2px rgba(60, 64, 67, 0.3), 0 1px 3px 1px rgba(60, 64, 67, 0.15);\n",
              "    fill: var(--button-hover-fill-color);\n",
              "  }\n",
              "\n",
              "  .colab-df-quickchart-complete:disabled,\n",
              "  .colab-df-quickchart-complete:disabled:hover {\n",
              "    background-color: var(--disabled-bg-color);\n",
              "    fill: var(--disabled-fill-color);\n",
              "    box-shadow: none;\n",
              "  }\n",
              "\n",
              "  .colab-df-spinner {\n",
              "    border: 2px solid var(--fill-color);\n",
              "    border-color: transparent;\n",
              "    border-bottom-color: var(--fill-color);\n",
              "    animation:\n",
              "      spin 1s steps(1) infinite;\n",
              "  }\n",
              "\n",
              "  @keyframes spin {\n",
              "    0% {\n",
              "      border-color: transparent;\n",
              "      border-bottom-color: var(--fill-color);\n",
              "      border-left-color: var(--fill-color);\n",
              "    }\n",
              "    20% {\n",
              "      border-color: transparent;\n",
              "      border-left-color: var(--fill-color);\n",
              "      border-top-color: var(--fill-color);\n",
              "    }\n",
              "    30% {\n",
              "      border-color: transparent;\n",
              "      border-left-color: var(--fill-color);\n",
              "      border-top-color: var(--fill-color);\n",
              "      border-right-color: var(--fill-color);\n",
              "    }\n",
              "    40% {\n",
              "      border-color: transparent;\n",
              "      border-right-color: var(--fill-color);\n",
              "      border-top-color: var(--fill-color);\n",
              "    }\n",
              "    60% {\n",
              "      border-color: transparent;\n",
              "      border-right-color: var(--fill-color);\n",
              "    }\n",
              "    80% {\n",
              "      border-color: transparent;\n",
              "      border-right-color: var(--fill-color);\n",
              "      border-bottom-color: var(--fill-color);\n",
              "    }\n",
              "    90% {\n",
              "      border-color: transparent;\n",
              "      border-bottom-color: var(--fill-color);\n",
              "    }\n",
              "  }\n",
              "</style>\n",
              "\n",
              "  <script>\n",
              "    async function quickchart(key) {\n",
              "      const quickchartButtonEl =\n",
              "        document.querySelector('#' + key + ' button');\n",
              "      quickchartButtonEl.disabled = true;  // To prevent multiple clicks.\n",
              "      quickchartButtonEl.classList.add('colab-df-spinner');\n",
              "      try {\n",
              "        const charts = await google.colab.kernel.invokeFunction(\n",
              "            'suggestCharts', [key], {});\n",
              "      } catch (error) {\n",
              "        console.error('Error during call to suggestCharts:', error);\n",
              "      }\n",
              "      quickchartButtonEl.classList.remove('colab-df-spinner');\n",
              "      quickchartButtonEl.classList.add('colab-df-quickchart-complete');\n",
              "    }\n",
              "    (() => {\n",
              "      let quickchartButtonEl =\n",
              "        document.querySelector('#df-eb6d5adb-6321-4883-8fd1-764d3f098f57 button');\n",
              "      quickchartButtonEl.style.display =\n",
              "        google.colab.kernel.accessAllowed ? 'block' : 'none';\n",
              "    })();\n",
              "  </script>\n",
              "</div>\n",
              "\n",
              "    </div>\n",
              "  </div>\n"
            ],
            "text/plain": [
              "       ID_LAT_LON_YEAR_WEEK  latitude  longitude  year  week_no  \\\n",
              "0  ID_-0.510_29.290_2019_00     -0.51      29.29  2019        0   \n",
              "1  ID_-0.510_29.290_2019_01     -0.51      29.29  2019        1   \n",
              "2  ID_-0.510_29.290_2019_02     -0.51      29.29  2019        2   \n",
              "3  ID_-0.510_29.290_2019_03     -0.51      29.29  2019        3   \n",
              "4  ID_-0.510_29.290_2019_04     -0.51      29.29  2019        4   \n",
              "\n",
              "   SulphurDioxide_SO2_column_number_density  \\\n",
              "0                                 -0.000108   \n",
              "1                                  0.000021   \n",
              "2                                  0.000514   \n",
              "3                                       NaN   \n",
              "4                                 -0.000079   \n",
              "\n",
              "   SulphurDioxide_SO2_column_number_density_amf  \\\n",
              "0                                      0.603019   \n",
              "1                                      0.728214   \n",
              "2                                      0.748199   \n",
              "3                                           NaN   \n",
              "4                                      0.676296   \n",
              "\n",
              "   SulphurDioxide_SO2_slant_column_number_density  \\\n",
              "0                                       -0.000065   \n",
              "1                                        0.000014   \n",
              "2                                        0.000385   \n",
              "3                                             NaN   \n",
              "4                                       -0.000048   \n",
              "\n",
              "   SulphurDioxide_cloud_fraction  SulphurDioxide_sensor_azimuth_angle  ...  \\\n",
              "0                       0.255668                           -98.593887  ...   \n",
              "1                       0.130988                            16.592861  ...   \n",
              "2                       0.110018                            72.795837  ...   \n",
              "3                            NaN                                  NaN  ...   \n",
              "4                       0.121164                             4.121269  ...   \n",
              "\n",
              "   Cloud_cloud_top_height  Cloud_cloud_base_pressure  Cloud_cloud_base_height  \\\n",
              "0             3664.436218               61085.809570              2615.120483   \n",
              "1             3651.190311               66969.478735              3174.572424   \n",
              "2             4216.986492               60068.894448              3516.282669   \n",
              "3             5228.507736               51064.547339              4180.973322   \n",
              "4             3980.598120               63751.125781              3355.710107   \n",
              "\n",
              "   Cloud_cloud_optical_depth  Cloud_surface_albedo  \\\n",
              "0                  15.568533              0.272292   \n",
              "1                   8.690601              0.256830   \n",
              "2                  21.103410              0.251101   \n",
              "3                  15.386899              0.262043   \n",
              "4                   8.114694              0.235847   \n",
              "\n",
              "   Cloud_sensor_azimuth_angle  Cloud_sensor_zenith_angle  \\\n",
              "0                  -12.628986                  35.632416   \n",
              "1                   30.359375                  39.557633   \n",
              "2                   15.377883                  30.401823   \n",
              "3                  -11.293399                  24.380357   \n",
              "4                   38.532263                  37.392979   \n",
              "\n",
              "   Cloud_solar_azimuth_angle  Cloud_solar_zenith_angle  emission  \n",
              "0                -138.786423                 30.752140  3.750994  \n",
              "1                -145.183930                 27.251779  4.025176  \n",
              "2                -142.519545                 26.193296  4.231381  \n",
              "3                -132.665828                 28.829155  4.305286  \n",
              "4                -141.509805                 22.204612  4.347317  \n",
              "\n",
              "[5 rows x 76 columns]"
            ]
          },
          "execution_count": 6,
          "metadata": {},
          "output_type": "execute_result"
        }
      ],
      "source": [
        "csv_path = os.path.join(path, \"train.csv\")\n",
        "\n",
        "data = pd.read_csv(csv_path)\n",
        "data.head()"
      ]
    },
    {
      "cell_type": "markdown",
      "metadata": {
        "id": "GFi1J3pQKjIu"
      },
      "source": [
        "# EDA & Preprocessing"
      ]
    },
    {
      "cell_type": "markdown",
      "metadata": {
        "id": "VvHhN0w6LY04"
      },
      "source": [
        "1. Drop the ID feature (ID_LAT_LON_YEAR_WEEK):"
      ]
    },
    {
      "cell_type": "code",
      "execution_count": 9,
      "metadata": {
        "colab": {
          "base_uri": "https://localhost:8080/",
          "height": 339
        },
        "id": "j3atjyJnLZPH",
        "outputId": "e4fbedad-dce6-4d77-8d4a-becc219929bc"
      },
      "outputs": [
        {
          "ename": "KeyError",
          "evalue": "\"['ID_LAT_LON_YEAR_WEEK'] not found in axis\"",
          "output_type": "error",
          "traceback": [
            "\u001b[0;31m---------------------------------------------------------------------------\u001b[0m",
            "\u001b[0;31mKeyError\u001b[0m                                  Traceback (most recent call last)",
            "\u001b[0;32m<ipython-input-9-9fecd67d4deb>\u001b[0m in \u001b[0;36m<cell line: 2>\u001b[0;34m()\u001b[0m\n\u001b[1;32m      1\u001b[0m \u001b[0;31m# 1. TODO\u001b[0m\u001b[0;34m\u001b[0m\u001b[0;34m\u001b[0m\u001b[0m\n\u001b[0;32m----> 2\u001b[0;31m \u001b[0mdata\u001b[0m\u001b[0;34m=\u001b[0m\u001b[0mdata\u001b[0m\u001b[0;34m.\u001b[0m\u001b[0mdrop\u001b[0m\u001b[0;34m(\u001b[0m\u001b[0;34m\"ID_LAT_LON_YEAR_WEEK\"\u001b[0m\u001b[0;34m,\u001b[0m\u001b[0maxis\u001b[0m\u001b[0;34m=\u001b[0m\u001b[0;36m1\u001b[0m\u001b[0;34m)\u001b[0m\u001b[0;34m\u001b[0m\u001b[0;34m\u001b[0m\u001b[0m\n\u001b[0m",
            "\u001b[0;32m/usr/local/lib/python3.10/dist-packages/pandas/core/frame.py\u001b[0m in \u001b[0;36mdrop\u001b[0;34m(self, labels, axis, index, columns, level, inplace, errors)\u001b[0m\n\u001b[1;32m   5579\u001b[0m                 \u001b[0mweight\u001b[0m  \u001b[0;36m1.0\u001b[0m     \u001b[0;36m0.8\u001b[0m\u001b[0;34m\u001b[0m\u001b[0;34m\u001b[0m\u001b[0m\n\u001b[1;32m   5580\u001b[0m         \"\"\"\n\u001b[0;32m-> 5581\u001b[0;31m         return super().drop(\n\u001b[0m\u001b[1;32m   5582\u001b[0m             \u001b[0mlabels\u001b[0m\u001b[0;34m=\u001b[0m\u001b[0mlabels\u001b[0m\u001b[0;34m,\u001b[0m\u001b[0;34m\u001b[0m\u001b[0;34m\u001b[0m\u001b[0m\n\u001b[1;32m   5583\u001b[0m             \u001b[0maxis\u001b[0m\u001b[0;34m=\u001b[0m\u001b[0maxis\u001b[0m\u001b[0;34m,\u001b[0m\u001b[0;34m\u001b[0m\u001b[0;34m\u001b[0m\u001b[0m\n",
            "\u001b[0;32m/usr/local/lib/python3.10/dist-packages/pandas/core/generic.py\u001b[0m in \u001b[0;36mdrop\u001b[0;34m(self, labels, axis, index, columns, level, inplace, errors)\u001b[0m\n\u001b[1;32m   4786\u001b[0m         \u001b[0;32mfor\u001b[0m \u001b[0maxis\u001b[0m\u001b[0;34m,\u001b[0m \u001b[0mlabels\u001b[0m \u001b[0;32min\u001b[0m \u001b[0maxes\u001b[0m\u001b[0;34m.\u001b[0m\u001b[0mitems\u001b[0m\u001b[0;34m(\u001b[0m\u001b[0;34m)\u001b[0m\u001b[0;34m:\u001b[0m\u001b[0;34m\u001b[0m\u001b[0;34m\u001b[0m\u001b[0m\n\u001b[1;32m   4787\u001b[0m             \u001b[0;32mif\u001b[0m \u001b[0mlabels\u001b[0m \u001b[0;32mis\u001b[0m \u001b[0;32mnot\u001b[0m \u001b[0;32mNone\u001b[0m\u001b[0;34m:\u001b[0m\u001b[0;34m\u001b[0m\u001b[0;34m\u001b[0m\u001b[0m\n\u001b[0;32m-> 4788\u001b[0;31m                 \u001b[0mobj\u001b[0m \u001b[0;34m=\u001b[0m \u001b[0mobj\u001b[0m\u001b[0;34m.\u001b[0m\u001b[0m_drop_axis\u001b[0m\u001b[0;34m(\u001b[0m\u001b[0mlabels\u001b[0m\u001b[0;34m,\u001b[0m \u001b[0maxis\u001b[0m\u001b[0;34m,\u001b[0m \u001b[0mlevel\u001b[0m\u001b[0;34m=\u001b[0m\u001b[0mlevel\u001b[0m\u001b[0;34m,\u001b[0m \u001b[0merrors\u001b[0m\u001b[0;34m=\u001b[0m\u001b[0merrors\u001b[0m\u001b[0;34m)\u001b[0m\u001b[0;34m\u001b[0m\u001b[0;34m\u001b[0m\u001b[0m\n\u001b[0m\u001b[1;32m   4789\u001b[0m \u001b[0;34m\u001b[0m\u001b[0m\n\u001b[1;32m   4790\u001b[0m         \u001b[0;32mif\u001b[0m \u001b[0minplace\u001b[0m\u001b[0;34m:\u001b[0m\u001b[0;34m\u001b[0m\u001b[0;34m\u001b[0m\u001b[0m\n",
            "\u001b[0;32m/usr/local/lib/python3.10/dist-packages/pandas/core/generic.py\u001b[0m in \u001b[0;36m_drop_axis\u001b[0;34m(self, labels, axis, level, errors, only_slice)\u001b[0m\n\u001b[1;32m   4828\u001b[0m                 \u001b[0mnew_axis\u001b[0m \u001b[0;34m=\u001b[0m \u001b[0maxis\u001b[0m\u001b[0;34m.\u001b[0m\u001b[0mdrop\u001b[0m\u001b[0;34m(\u001b[0m\u001b[0mlabels\u001b[0m\u001b[0;34m,\u001b[0m \u001b[0mlevel\u001b[0m\u001b[0;34m=\u001b[0m\u001b[0mlevel\u001b[0m\u001b[0;34m,\u001b[0m \u001b[0merrors\u001b[0m\u001b[0;34m=\u001b[0m\u001b[0merrors\u001b[0m\u001b[0;34m)\u001b[0m\u001b[0;34m\u001b[0m\u001b[0;34m\u001b[0m\u001b[0m\n\u001b[1;32m   4829\u001b[0m             \u001b[0;32melse\u001b[0m\u001b[0;34m:\u001b[0m\u001b[0;34m\u001b[0m\u001b[0;34m\u001b[0m\u001b[0m\n\u001b[0;32m-> 4830\u001b[0;31m                 \u001b[0mnew_axis\u001b[0m \u001b[0;34m=\u001b[0m \u001b[0maxis\u001b[0m\u001b[0;34m.\u001b[0m\u001b[0mdrop\u001b[0m\u001b[0;34m(\u001b[0m\u001b[0mlabels\u001b[0m\u001b[0;34m,\u001b[0m \u001b[0merrors\u001b[0m\u001b[0;34m=\u001b[0m\u001b[0merrors\u001b[0m\u001b[0;34m)\u001b[0m\u001b[0;34m\u001b[0m\u001b[0;34m\u001b[0m\u001b[0m\n\u001b[0m\u001b[1;32m   4831\u001b[0m             \u001b[0mindexer\u001b[0m \u001b[0;34m=\u001b[0m \u001b[0maxis\u001b[0m\u001b[0;34m.\u001b[0m\u001b[0mget_indexer\u001b[0m\u001b[0;34m(\u001b[0m\u001b[0mnew_axis\u001b[0m\u001b[0;34m)\u001b[0m\u001b[0;34m\u001b[0m\u001b[0;34m\u001b[0m\u001b[0m\n\u001b[1;32m   4832\u001b[0m \u001b[0;34m\u001b[0m\u001b[0m\n",
            "\u001b[0;32m/usr/local/lib/python3.10/dist-packages/pandas/core/indexes/base.py\u001b[0m in \u001b[0;36mdrop\u001b[0;34m(self, labels, errors)\u001b[0m\n\u001b[1;32m   7068\u001b[0m         \u001b[0;32mif\u001b[0m \u001b[0mmask\u001b[0m\u001b[0;34m.\u001b[0m\u001b[0many\u001b[0m\u001b[0;34m(\u001b[0m\u001b[0;34m)\u001b[0m\u001b[0;34m:\u001b[0m\u001b[0;34m\u001b[0m\u001b[0;34m\u001b[0m\u001b[0m\n\u001b[1;32m   7069\u001b[0m             \u001b[0;32mif\u001b[0m \u001b[0merrors\u001b[0m \u001b[0;34m!=\u001b[0m \u001b[0;34m\"ignore\"\u001b[0m\u001b[0;34m:\u001b[0m\u001b[0;34m\u001b[0m\u001b[0;34m\u001b[0m\u001b[0m\n\u001b[0;32m-> 7070\u001b[0;31m                 \u001b[0;32mraise\u001b[0m \u001b[0mKeyError\u001b[0m\u001b[0;34m(\u001b[0m\u001b[0;34mf\"{labels[mask].tolist()} not found in axis\"\u001b[0m\u001b[0;34m)\u001b[0m\u001b[0;34m\u001b[0m\u001b[0;34m\u001b[0m\u001b[0m\n\u001b[0m\u001b[1;32m   7071\u001b[0m             \u001b[0mindexer\u001b[0m \u001b[0;34m=\u001b[0m \u001b[0mindexer\u001b[0m\u001b[0;34m[\u001b[0m\u001b[0;34m~\u001b[0m\u001b[0mmask\u001b[0m\u001b[0;34m]\u001b[0m\u001b[0;34m\u001b[0m\u001b[0;34m\u001b[0m\u001b[0m\n\u001b[1;32m   7072\u001b[0m         \u001b[0;32mreturn\u001b[0m \u001b[0mself\u001b[0m\u001b[0;34m.\u001b[0m\u001b[0mdelete\u001b[0m\u001b[0;34m(\u001b[0m\u001b[0mindexer\u001b[0m\u001b[0;34m)\u001b[0m\u001b[0;34m\u001b[0m\u001b[0;34m\u001b[0m\u001b[0m\n",
            "\u001b[0;31mKeyError\u001b[0m: \"['ID_LAT_LON_YEAR_WEEK'] not found in axis\""
          ]
        }
      ],
      "source": [
        "# 1. TODO\n",
        "data=data.drop(\"ID_LAT_LON_YEAR_WEEK\",axis=1)"
      ]
    },
    {
      "cell_type": "markdown",
      "metadata": {
        "id": "Nm4I4BGUKn1m"
      },
      "source": [
        "2. Check for the missing values and handle them.\n"
      ]
    },
    {
      "cell_type": "code",
      "execution_count": 10,
      "metadata": {
        "colab": {
          "base_uri": "https://localhost:8080/"
        },
        "id": "XO2a_eSNKnj5",
        "outputId": "17dbeb2f-9a5e-43b8-f8c4-3f13d2a10621"
      },
      "outputs": [
        {
          "name": "stdout",
          "output_type": "stream",
          "text": [
            "Missing values\n",
            "latitude                                        0\n",
            "longitude                                       0\n",
            "year                                            0\n",
            "week_no                                         0\n",
            "SulphurDioxide_SO2_column_number_density    14609\n",
            "                                            ...  \n",
            "Cloud_sensor_azimuth_angle                    484\n",
            "Cloud_sensor_zenith_angle                     484\n",
            "Cloud_solar_azimuth_angle                     484\n",
            "Cloud_solar_zenith_angle                      484\n",
            "emission                                        0\n",
            "Length: 75, dtype: int64\n"
          ]
        }
      ],
      "source": [
        "# 2. TODO\n",
        "missing_values=data.isnull().sum()\n",
        "print(\"Missing values\")\n",
        "print(missing_values)"
      ]
    },
    {
      "cell_type": "markdown",
      "metadata": {
        "id": "jig-L0ezKpk0"
      },
      "source": [
        "3. Plot the \"emission\" histogram."
      ]
    },
    {
      "cell_type": "code",
      "execution_count": 14,
      "metadata": {
        "colab": {
          "base_uri": "https://localhost:8080/",
          "height": 447
        },
        "id": "tNen-D30KrJD",
        "outputId": "88dffd64-d7e3-42e0-e83e-91e9e9170450"
      },
      "outputs": [
        {
          "data": {
            "text/plain": [
              "[<matplotlib.lines.Line2D at 0x7956fb8f64d0>]"
            ]
          },
          "execution_count": 14,
          "metadata": {},
          "output_type": "execute_result"
        },
        {
          "data": {
            "image/png": "[encoded data removed]",
            "text/plain": [
              "<Figure size 640x480 with 1 Axes>"
            ]
          },
          "metadata": {},
          "output_type": "display_data"
        }
      ],
      "source": [
        "# 3. TODO\n",
        "plt.plot(data[\"emission\"])"
      ]
    },
    {
      "cell_type": "markdown",
      "metadata": {
        "id": "7qS_iaWOKseB"
      },
      "source": [
        "4. Plot the \"latitude\" and \"longitude\" using a scatter plot then colorize the points using the \"emission\" column."
      ]
    },
    {
      "cell_type": "code",
      "execution_count": null,
      "metadata": {
        "id": "8Xr9ByisKulv"
      },
      "outputs": [],
      "source": [
        "# 4. TODO\n",
        "_,ylim_top=plt"
      ]
    },
    {
      "cell_type": "markdown",
      "metadata": {
        "id": "MbcBlyuP41xD"
      },
      "source": []
    },
    {
      "cell_type": "markdown",
      "metadata": {
        "id": "YSStISDsKvyc"
      },
      "source": [
        "# Feature engineering"
      ]
    },
    {
      "cell_type": "markdown",
      "metadata": {
        "id": "Q--cQbrjKySp"
      },
      "source": [
        "1. Add a new feature representing \"Location\" (To do that, you should convert \"longitude\" and \"latitude\" features to string type, concatenate them and add the result as a new feature)."
      ]
    },
    {
      "cell_type": "code",
      "execution_count": 17,
      "metadata": {
        "id": "a5EF3KoDKxJj"
      },
      "outputs": [],
      "source": [
        "# 1. TODO\n",
        "data[\"Location\"]=str(data[\"longitude\"]+data[\"latitude\"])"
      ]
    },
    {
      "cell_type": "markdown",
      "metadata": {
        "id": "pzgr8cpdLpCI"
      },
      "source": [
        "2. Add one aggregation feature representing the average emissions per location (You should groupby \"Location\" feature and take mean of the \"emission\", then merge the result to the data)"
      ]
    },
    {
      "cell_type": "code",
      "execution_count": 18,
      "metadata": {
        "colab": {
          "base_uri": "https://localhost:8080/",
          "height": 463
        },
        "id": "n1gOCs9NLqdn",
        "outputId": "6b3a5fcc-caed-4c26-9f1d-414f489dc3d9"
      },
      "outputs": [
        {
          "name": "stderr",
          "output_type": "stream",
          "text": [
            "<>:3: SyntaxWarning: str indices must be integers or slices, not tuple; perhaps you missed a comma?\n",
            "<>:3: SyntaxWarning: str indices must be integers or slices, not tuple; perhaps you missed a comma?\n",
            "<ipython-input-18-39f2b1dffe91>:3: SyntaxWarning: str indices must be integers or slices, not tuple; perhaps you missed a comma?\n",
            "  'Avg. per location'['mean','mean']\n"
          ]
        },
        {
          "ename": "KeyError",
          "evalue": "'Location/emission'",
          "output_type": "error",
          "traceback": [
            "\u001b[0;31m---------------------------------------------------------------------------\u001b[0m",
            "\u001b[0;31mKeyError\u001b[0m                                  Traceback (most recent call last)",
            "\u001b[0;32m<ipython-input-18-39f2b1dffe91>\u001b[0m in \u001b[0;36m<cell line: 2>\u001b[0;34m()\u001b[0m\n\u001b[1;32m      1\u001b[0m \u001b[0;31m# 2. TODO\u001b[0m\u001b[0;34m\u001b[0m\u001b[0;34m\u001b[0m\u001b[0m\n\u001b[0;32m----> 2\u001b[0;31m aggregates=data.groupby(\"Location/emission\").agg({\n\u001b[0m\u001b[1;32m      3\u001b[0m     \u001b[0;34m'Avg. per location'\u001b[0m\u001b[0;34m[\u001b[0m\u001b[0;34m'mean'\u001b[0m\u001b[0;34m,\u001b[0m\u001b[0;34m'mean'\u001b[0m\u001b[0;34m]\u001b[0m\u001b[0;34m\u001b[0m\u001b[0;34m\u001b[0m\u001b[0m\n\u001b[1;32m      4\u001b[0m })\n\u001b[1;32m      5\u001b[0m \u001b[0maggregates\u001b[0m\u001b[0;34m\u001b[0m\u001b[0;34m\u001b[0m\u001b[0m\n",
            "\u001b[0;32m/usr/local/lib/python3.10/dist-packages/pandas/core/frame.py\u001b[0m in \u001b[0;36mgroupby\u001b[0;34m(self, by, axis, level, as_index, sort, group_keys, observed, dropna)\u001b[0m\n\u001b[1;32m   9181\u001b[0m             \u001b[0;32mraise\u001b[0m \u001b[0mTypeError\u001b[0m\u001b[0;34m(\u001b[0m\u001b[0;34m\"You have to supply one of 'by' and 'level'\"\u001b[0m\u001b[0;34m)\u001b[0m\u001b[0;34m\u001b[0m\u001b[0;34m\u001b[0m\u001b[0m\n\u001b[1;32m   9182\u001b[0m \u001b[0;34m\u001b[0m\u001b[0m\n\u001b[0;32m-> 9183\u001b[0;31m         return DataFrameGroupBy(\n\u001b[0m\u001b[1;32m   9184\u001b[0m             \u001b[0mobj\u001b[0m\u001b[0;34m=\u001b[0m\u001b[0mself\u001b[0m\u001b[0;34m,\u001b[0m\u001b[0;34m\u001b[0m\u001b[0;34m\u001b[0m\u001b[0m\n\u001b[1;32m   9185\u001b[0m             \u001b[0mkeys\u001b[0m\u001b[0;34m=\u001b[0m\u001b[0mby\u001b[0m\u001b[0;34m,\u001b[0m\u001b[0;34m\u001b[0m\u001b[0;34m\u001b[0m\u001b[0m\n",
            "\u001b[0;32m/usr/local/lib/python3.10/dist-packages/pandas/core/groupby/groupby.py\u001b[0m in \u001b[0;36m__init__\u001b[0;34m(self, obj, keys, axis, level, grouper, exclusions, selection, as_index, sort, group_keys, observed, dropna)\u001b[0m\n\u001b[1;32m   1327\u001b[0m \u001b[0;34m\u001b[0m\u001b[0m\n\u001b[1;32m   1328\u001b[0m         \u001b[0;32mif\u001b[0m \u001b[0mgrouper\u001b[0m \u001b[0;32mis\u001b[0m \u001b[0;32mNone\u001b[0m\u001b[0;34m:\u001b[0m\u001b[0;34m\u001b[0m\u001b[0;34m\u001b[0m\u001b[0m\n\u001b[0;32m-> 1329\u001b[0;31m             grouper, exclusions, obj = get_grouper(\n\u001b[0m\u001b[1;32m   1330\u001b[0m                 \u001b[0mobj\u001b[0m\u001b[0;34m,\u001b[0m\u001b[0;34m\u001b[0m\u001b[0;34m\u001b[0m\u001b[0m\n\u001b[1;32m   1331\u001b[0m                 \u001b[0mkeys\u001b[0m\u001b[0;34m,\u001b[0m\u001b[0;34m\u001b[0m\u001b[0;34m\u001b[0m\u001b[0m\n",
            "\u001b[0;32m/usr/local/lib/python3.10/dist-packages/pandas/core/groupby/grouper.py\u001b[0m in \u001b[0;36mget_grouper\u001b[0;34m(obj, key, axis, level, sort, observed, validate, dropna)\u001b[0m\n\u001b[1;32m   1041\u001b[0m                 \u001b[0min_axis\u001b[0m\u001b[0;34m,\u001b[0m \u001b[0mlevel\u001b[0m\u001b[0;34m,\u001b[0m \u001b[0mgpr\u001b[0m \u001b[0;34m=\u001b[0m \u001b[0;32mFalse\u001b[0m\u001b[0;34m,\u001b[0m \u001b[0mgpr\u001b[0m\u001b[0;34m,\u001b[0m \u001b[0;32mNone\u001b[0m\u001b[0;34m\u001b[0m\u001b[0;34m\u001b[0m\u001b[0m\n\u001b[1;32m   1042\u001b[0m             \u001b[0;32melse\u001b[0m\u001b[0;34m:\u001b[0m\u001b[0;34m\u001b[0m\u001b[0;34m\u001b[0m\u001b[0m\n\u001b[0;32m-> 1043\u001b[0;31m                 \u001b[0;32mraise\u001b[0m \u001b[0mKeyError\u001b[0m\u001b[0;34m(\u001b[0m\u001b[0mgpr\u001b[0m\u001b[0;34m)\u001b[0m\u001b[0;34m\u001b[0m\u001b[0;34m\u001b[0m\u001b[0m\n\u001b[0m\u001b[1;32m   1044\u001b[0m         \u001b[0;32melif\u001b[0m \u001b[0misinstance\u001b[0m\u001b[0;34m(\u001b[0m\u001b[0mgpr\u001b[0m\u001b[0;34m,\u001b[0m \u001b[0mGrouper\u001b[0m\u001b[0;34m)\u001b[0m \u001b[0;32mand\u001b[0m \u001b[0mgpr\u001b[0m\u001b[0;34m.\u001b[0m\u001b[0mkey\u001b[0m \u001b[0;32mis\u001b[0m \u001b[0;32mnot\u001b[0m \u001b[0;32mNone\u001b[0m\u001b[0;34m:\u001b[0m\u001b[0;34m\u001b[0m\u001b[0;34m\u001b[0m\u001b[0m\n\u001b[1;32m   1045\u001b[0m             \u001b[0;31m# Add key to exclusions\u001b[0m\u001b[0;34m\u001b[0m\u001b[0;34m\u001b[0m\u001b[0m\n",
            "\u001b[0;31mKeyError\u001b[0m: 'Location/emission'"
          ]
        }
      ],
      "source": [
        "# 2. TODO\n",
        "aggregates=data.groupby(\"Location/emission\").agg({\n",
        "    'Avg. per location'['mean','mean']\n",
        "})\n",
        "aggregates"
      ]
    },
    {
      "cell_type": "markdown",
      "metadata": {
        "id": "Y-5wgWFvLrgx"
      },
      "source": [
        "3. Use Label encoder to encode all the categorical features"
      ]
    },
    {
      "cell_type": "code",
      "execution_count": null,
      "metadata": {
        "id": "ILQ6DoPsLtNx"
      },
      "outputs": [],
      "source": [
        "# 3. TODO\n",
        "aggregates.columns=[\"the average emissions per location\"]\n",
        "data=data.merge(aggregates,on=\"Location/emission\",how=\"left\")\n",
        "data"
      ]
    },
    {
      "cell_type": "markdown",
      "metadata": {
        "id": "8CpSCxVXLuXI"
      },
      "source": [
        "# Modeling"
      ]
    },
    {
      "cell_type": "code",
      "execution_count": null,
      "metadata": {
        "id": "d-Tdc4Yy_Pu-"
      },
      "outputs": [],
      "source": [
        "import pandas as pd\n",
        "import numpy as np\n",
        "from sklearn.linear_model import LinearRegression\n",
        "from sklearn.metrics import r2_score\n",
        "\n",
        "mpg_df = pd.read_csv(\"https://raw.githubusercontent.com/mwaskom/seaborn-data/master/mpg.csv\")\n",
        "\n",
        "df = mpg_df[['mpg', 'weight']]\n",
        "df\n",
        "\n",
        "y = mpg_df.mpg\n",
        "X = mpg_df[['weight']]\n",
        "\n",
        "#fitting\n",
        "model_lr = LinearRegression()\n",
        "model_lr.fit(X, y)\n",
        "\n",
        "model_lr\n",
        "\n",
        "#results\n",
        "model.lr.coef_\n",
        "model.lr.intercept_\n",
        "\n",
        "#predictions\n",
        "y_pred = model_lr.predict(X)\n",
        "#model_lr.predict(df[['weight']])\n",
        "\n",
        "#variance explained\n",
        "r2_score(\n",
        "      y_true = df.mpg,\n",
        "      y_pred = model_lr.predict(df[['weight']])\n",
        ")\n"
      ]
    },
    {
      "cell_type": "markdown",
      "metadata": {
        "id": "V-WArrwMLyjY"
      },
      "source": [
        "### Baseline:"
      ]
    },
    {
      "cell_type": "markdown",
      "metadata": {
        "id": "SdTV42S7L0N-"
      },
      "source": [
        "1. Create a baseline using the \"emission\" median and calculate MAE score."
      ]
    },
    {
      "cell_type": "code",
      "execution_count": 20,
      "metadata": {
        "id": "RbzlXslFLxFz"
      },
      "outputs": [],
      "source": [
        "# 1. TODO"
      ]
    },
    {
      "cell_type": "markdown",
      "metadata": {
        "id": "vjUDnm35L1-C"
      },
      "source": [
        "2. Perform a Time-Based Train-Test Split:\n",
        "  * You will use the \"year\" column to split data manually using pandas.\n",
        "  * Use all samples from 2019 and 2020 as the training set.\n",
        "  * Use all samples from 2021 as the validation set.\n",
        "  * Construct X_train, X_valid, y_train, y_valid"
      ]
    },
    {
      "cell_type": "code",
      "execution_count": null,
      "metadata": {
        "id": "STZgP3gqL1Zy"
      },
      "outputs": [],
      "source": [
        "# 2. TODO\n"
      ]
    },
    {
      "cell_type": "markdown",
      "metadata": {
        "id": "lGy-kSxYL4JB"
      },
      "source": [
        "3. Train a LGBMRegressor on the training data."
      ]
    },
    {
      "cell_type": "code",
      "execution_count": null,
      "metadata": {
        "id": "NHWG0I-jL54R"
      },
      "outputs": [],
      "source": [
        "# 3. TODO\n"
      ]
    },
    {
      "cell_type": "markdown",
      "metadata": {
        "id": "HtAvokFEL7Bb"
      },
      "source": [
        "4. Evaluate the Model on the validation data Using MAE"
      ]
    },
    {
      "cell_type": "code",
      "execution_count": null,
      "metadata": {
        "id": "5lIY4TvJL8vB"
      },
      "outputs": [],
      "source": [
        "# 4. TODO\n"
      ]
    },
    {
      "cell_type": "markdown",
      "metadata": {
        "id": "AeWKRl20L9yJ"
      },
      "source": [
        "5. Plot the features importance of your model."
      ]
    },
    {
      "cell_type": "code",
      "execution_count": null,
      "metadata": {
        "id": "ZMqu82anMAX1"
      },
      "outputs": [],
      "source": [
        "# 5. TODO\n"
      ]
    },
    {
      "cell_type": "markdown",
      "metadata": {
        "id": "XfMe_YXSMBh0"
      },
      "source": [
        "6. Plot the validation predictions using a histogram."
      ]
    },
    {
      "cell_type": "code",
      "execution_count": null,
      "metadata": {
        "id": "ikggyDItMC2j"
      },
      "outputs": [],
      "source": [
        "# 6. TODO"
      ]
    },
    {
      "cell_type": "markdown",
      "metadata": {
        "id": "ZKeypO_EZaKe"
      },
      "source": [
        "Good luck in the exam x)\n",
        "\n",
        "Prepared by: Mohamed Eltayeb\n"
      ]
    }
  ],
  "metadata": {
    "colab": {
      "provenance": []
    },
    "kernelspec": {
      "display_name": "Python 3",
      "name": "python3"
    },
    "language_info": {
      "name": "python"
    }
  },
  "nbformat": 4,
  "nbformat_minor": 0
}
